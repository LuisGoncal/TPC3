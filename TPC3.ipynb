{
 "cells": [
  {
   "cell_type": "markdown",
   "id": "75511213",
   "metadata": {},
   "source": [
    "_Idenficador:__ TPC3  \n",
    "__Título do Trabalho:__ Organizar uma lista    \n",
    "__Data de ínicio:__ 2021-10-17  \n",
    "__Data do Fim:__ 2021-10-24  \n",
    "__Supervisor:__ José Carlos Ramalho  \n",
    "__Autor:__ Luís Manuel Mendonça Gonçalves A95637  \n",
    " #### __Resumo:__  \n",
    " \n",
    "  Neste trabalho foi pedido que fosse desenvolvido um programa capaz de organizar uma lista previamente feira, numa ordem crescente, sem utilizar nenhuma das funções fornecidas pelo Python.  \n",
    "  Neste trabalho foi utilizado um programa de _Bubble Sort_ ou de _Trocas Diretas_, examinando cada conjunto de elementos adjacentes, trocando suas posições se estiverem fora de ordem, repetindo-se até alguma vez não haja alguma troca.  \n",
    "  \n",
    "  Para ser possível este trabalho foram criadas a função _CriarListaA()_, onde cria uma lista de um número dado pelo utilizador de elementos, escolhidos de maneira aleatória que poderá ser usada, para ser organizada pelo função _Ord()_, que é apenas uma função que se baseia no Bubble Sort.  \n",
    "  Foram criadas as funções _menu()_ onde apenas mostra ao utilizador as suas opções de escolha do que fazer ao iniciar o programa e _CriarListaM()_, onde cria uma lista manualmente.  "
   ]
  },
  {
   "cell_type": "code",
   "execution_count": null,
   "id": "dfdba606",
   "metadata": {},
   "outputs": [],
   "source": [
    "def menu():\n",
    "    print(\"\"\"Gestão de listas de inteiros\n",
    "    \n",
    "(1) Introduza a lista á Mão\n",
    "(2) Gerar lista com valores aleatórios\n",
    "(3) Valor Maior da lista já criada\n",
    "(4) Ordenação de uma lista já criada\n",
    "...\n",
    "(0) Sair\"\"\")\n"
   ]
  },
  {
   "cell_type": "code",
   "execution_count": null,
   "id": "650090c4",
   "metadata": {},
   "outputs": [],
   "source": [
    "def CriarListaM():\n",
    "    n=int(input(\"Intruduza o número de números que quer colocar na lista: \")) \n",
    "    \n",
    "    Lista=[]\n",
    "    for t in range (n):\n",
    "        Num=int(input(\"Introduza o número \"+ str(t+1) +\": \"))\n",
    "        Lista.append(Num)\n",
    "    return(Lista)"
   ]
  },
  {
   "cell_type": "code",
   "execution_count": null,
   "id": "0a35f18e",
   "metadata": {},
   "outputs": [],
   "source": [
    "def CriarListaA():\n",
    "    from random import randint\n",
    "    n2=int(input(\"Intruduza o número de números que quer colocar na lista: \")) \n",
    "    \n",
    "    Lista2=[]\n",
    "    for t in range (n2):\n",
    "        elem=(randint(0,100))\n",
    "        Lista2.append(elem)\n",
    "    return(Lista2)"
   ]
  },
  {
   "cell_type": "code",
   "execution_count": null,
   "id": "f41c1372",
   "metadata": {},
   "outputs": [],
   "source": [
    "def Max(Lista2):\n",
    "    n=-1\n",
    "    for i in range (len (Lista2)):\n",
    "        if n<Lista2[i]:\n",
    "            n=Lista2[i]\n",
    "            \n",
    "    return (n)"
   ]
  },
  {
   "cell_type": "code",
   "execution_count": null,
   "id": "85861f12",
   "metadata": {},
   "outputs": [],
   "source": [
    "def Ord(Lista):\n",
    "    Acabar=False\n",
    "    while Acabar!= True:\n",
    "        trocas=0\n",
    "        for i in range (len(Lista)-1):\n",
    "            if Lista[i+1]<Lista[i]:\n",
    "                Lista[i+1],Lista[i]=Lista[i],Lista[i+1]\n",
    "                trocas+=1\n",
    "        if trocas ==0:\n",
    "            Acabar=True\n",
    "    return (Lista)\n",
    "            \n",
    "                \n",
    "                "
   ]
  },
  {
   "cell_type": "code",
   "execution_count": null,
   "id": "a43e10b8",
   "metadata": {},
   "outputs": [],
   "source": [
    "op=\"a\"\n",
    "while op!=\"0\":\n",
    "    menu()\n",
    "    op=input(\"Qual a sua opção \\n\")\n",
    "    if op==\"1\":\n",
    "        resul=CriarListaM()\n",
    "        print(resul)\n",
    "    elif op==\"2\":\n",
    "        resul2=CriarListaA()\n",
    "        print(resul2)\n",
    "    elif op==\"3\":\n",
    "        resul3=Max(resul2)\n",
    "        print(resul3)\n",
    "    elif op==\"4\":\n",
    "        resul4=Ord(resul2)\n",
    "        print(resul4)\n",
    "    elif op==\"0\":\n",
    "        print(\"Até uma proxima\")\n",
    "    else:\n",
    "        print(\"Opção inválida\")"
   ]
  }
 ],
 "metadata": {
  "kernelspec": {
   "display_name": "Python 3",
   "language": "python",
   "name": "python3"
  },
  "language_info": {
   "codemirror_mode": {
    "name": "ipython",
    "version": 3
   },
   "file_extension": ".py",
   "mimetype": "text/x-python",
   "name": "python",
   "nbconvert_exporter": "python",
   "pygments_lexer": "ipython3",
   "version": "3.8.8"
  }
 },
 "nbformat": 4,
 "nbformat_minor": 5
}
